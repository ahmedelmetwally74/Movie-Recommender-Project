{
  "cells": [
    {
      "cell_type": "markdown",
      "metadata": {
        "id": "RE-ZrZIEHgYW"
      },
      "source": [
        "# Import Libraries"
      ]
    },
    {
      "cell_type": "code",
      "execution_count": 1,
      "metadata": {
        "id": "eP3MmoCMHfsN"
      },
      "outputs": [],
      "source": [
        "import math\n",
        "import pandas as pd\n",
        "import numpy as np\n",
        "import matplotlib.pyplot as plt\n",
        "from sklearn.metrics.pairwise import cosine_similarity\n",
        "from sklearn.model_selection import train_test_split\n",
        "from sklearn.metrics import mean_squared_error\n",
        "from keras.models import Model\n",
        "from keras.layers import Embedding, Input, Flatten, Dot, Dense, Dropout, Concatenate\n",
        "from keras.callbacks import Callback, EarlyStopping, ModelCheckpoint\n",
        "import re\n",
        "from keras.models import Model, model_from_json\n",
        "from google.colab import files"
      ]
    },
    {
      "cell_type": "markdown",
      "metadata": {
        "id": "OkJmb4PPObXj"
      },
      "source": [
        "# Load Datasets"
      ]
    },
    {
      "cell_type": "code",
      "execution_count": 2,
      "metadata": {
        "colab": {
          "base_uri": "https://localhost:8080/"
        },
        "id": "XoOL3CWrvYHG",
        "outputId": "1a3a0f4f-1485-4e61-855d-6acdaf9fe889"
      },
      "outputs": [
        {
          "name": "stdout",
          "output_type": "stream",
          "text": [
            "Mounted at /content/drive\n"
          ]
        }
      ],
      "source": [
        "from google.colab import drive\n",
        "drive.mount('/content/drive')"
      ]
    },
    {
      "cell_type": "code",
      "execution_count": 3,
      "metadata": {
        "id": "NbwPuhXbHApF"
      },
      "outputs": [],
      "source": [
        "movies = pd.read_csv('/content/drive/MyDrive/Recommender Dataset/Project/ml-latest-small/movies.csv')\n",
        "ratings = pd.read_csv('/content/drive/MyDrive/Recommender Dataset/Project/ml-latest-small/ratings.csv')"
      ]
    },
    {
      "cell_type": "markdown",
      "metadata": {
        "id": "g6Odl063Ozc9"
      },
      "source": [
        "# Data Preprocessing"
      ]
    },
    {
      "cell_type": "code",
      "execution_count": 26,
      "metadata": {
        "colab": {
          "base_uri": "https://localhost:8080/"
        },
        "id": "18-NhiGbg9g9",
        "outputId": "722dc1f7-c811-45d1-fddf-91c7610f219e"
      },
      "outputs": [
        {
          "name": "stdout",
          "output_type": "stream",
          "text": [
            "      movieId                                              title  \\\n",
            "10         11                            American President, The   \n",
            "26         27                                       Now and Then   \n",
            "28         29  City of Lost Children, The (Cité des enfants p...   \n",
            "46         50                                Usual Suspects, The   \n",
            "49         54                                     Big Green, The   \n",
            "...       ...                                                ...   \n",
            "9717   188833                     The Man Who Killed Don Quixote   \n",
            "9724   190183                                  The Darkest Minds   \n",
            "9732   193565                                 Gintama: The Movie   \n",
            "9733   193567    anohana: The Flower We Saw That Day - The Movie   \n",
            "9735   193573                   Love Live! The School Idol Movie   \n",
            "\n",
            "                                      genres  \n",
            "10                      Comedy|Drama|Romance  \n",
            "26                            Children|Drama  \n",
            "28    Adventure|Drama|Fantasy|Mystery|Sci-Fi  \n",
            "46                    Crime|Mystery|Thriller  \n",
            "49                           Children|Comedy  \n",
            "...                                      ...  \n",
            "9717                Adventure|Comedy|Fantasy  \n",
            "9724                         Sci-Fi|Thriller  \n",
            "9732          Action|Animation|Comedy|Sci-Fi  \n",
            "9733                         Animation|Drama  \n",
            "9735                               Animation  \n",
            "\n",
            "[2253 rows x 3 columns]\n"
          ]
        }
      ],
      "source": [
        "print(movies[movies['title'].str.contains(\"The\")])"
      ]
    },
    {
      "cell_type": "code",
      "execution_count": 27,
      "metadata": {
        "id": "gl4ZjPHifU0u"
      },
      "outputs": [],
      "source": [
        "def correct_movie_titles(movies):\n",
        "    def correct_title(title):\n",
        "        # Regex to handle titles ending with \", The\" followed by any characters\n",
        "        new_title = re.sub(r'^(.), The (.)$', r'The \\1 \\2', title)\n",
        "        new_title = re.sub(r'^(.), A (.)$', r'A \\1 \\2', new_title)\n",
        "        new_title = re.sub(r'\\s\\(\\d{4}\\)$', '', new_title)\n",
        "        return new_title\n",
        "\n",
        "    movies['title'] = movies['title'].apply(correct_title)\n",
        "    return movies"
      ]
    },
    {
      "cell_type": "code",
      "execution_count": 28,
      "metadata": {
        "id": "_m2jZursfXEW"
      },
      "outputs": [],
      "source": [
        "movies = correct_movie_titles(movies)"
      ]
    },
    {
      "cell_type": "code",
      "execution_count": null,
      "metadata": {},
      "outputs": [
        {
          "name": "stdout",
          "output_type": "stream",
          "text": [
            "      movieId                                              title  \\\n",
            "10         11                      The American President (1995)   \n",
            "26         27                                Now and Then (1995)   \n",
            "28         29  The City of Lost Children (Cité des enfants pe...   \n",
            "46         50                          The Usual Suspects (1995)   \n",
            "49         54                               The Big Green (1995)   \n",
            "...       ...                                                ...   \n",
            "9717   188833              The Man Who Killed Don Quixote (2018)   \n",
            "9724   190183                           The Darkest Minds (2018)   \n",
            "9732   193565                          Gintama: The Movie (2010)   \n",
            "9733   193567  anohana: The Flower We Saw That Day - The Movi...   \n",
            "9735   193573            Love Live! The School Idol Movie (2015)   \n",
            "\n",
            "                                      genres  \n",
            "10                      Comedy|Drama|Romance  \n",
            "26                            Children|Drama  \n",
            "28    Adventure|Drama|Fantasy|Mystery|Sci-Fi  \n",
            "46                    Crime|Mystery|Thriller  \n",
            "49                           Children|Comedy  \n",
            "...                                      ...  \n",
            "9717                Adventure|Comedy|Fantasy  \n",
            "9724                         Sci-Fi|Thriller  \n",
            "9732          Action|Animation|Comedy|Sci-Fi  \n",
            "9733                         Animation|Drama  \n",
            "9735                               Animation  \n",
            "\n",
            "[2253 rows x 3 columns]\n"
          ]
        }
      ],
      "source": [
        "# Display a few samples to check if the titles are corrected\n",
        "print(movies[movies['title'].str.contains(\"The\")])"
      ]
    },
    {
      "cell_type": "code",
      "execution_count": 8,
      "metadata": {
        "colab": {
          "base_uri": "https://localhost:8080/"
        },
        "id": "tjZBpZ5mfk6Z",
        "outputId": "8e285af4-27ca-42a2-bc99-0e975533c0c9"
      },
      "outputs": [
        {
          "data": {
            "text/plain": [
              "False"
            ]
          },
          "execution_count": 8,
          "metadata": {},
          "output_type": "execute_result"
        }
      ],
      "source": [
        "has_duplicates = movies.duplicated().any()\n",
        "has_duplicates"
      ]
    },
    {
      "cell_type": "code",
      "execution_count": 9,
      "metadata": {
        "id": "_swcu_NiOsVt"
      },
      "outputs": [],
      "source": [
        "# Get the maximum user and movie IDs\n",
        "max_userid = ratings['userId'].drop_duplicates().max()\n",
        "max_movieid = ratings['movieId'].drop_duplicates().max()"
      ]
    },
    {
      "cell_type": "code",
      "execution_count": 10,
      "metadata": {
        "id": "zkzC70uR3oxl"
      },
      "outputs": [],
      "source": [
        "def leave_one_out_split(ratings):\n",
        "    \"\"\"Split the ratings into training and test sets using Leave-One-Out strategy.\n",
        "       For each user, hold out one interaction for testing.\n",
        "    \"\"\"\n",
        "    train_data = []\n",
        "    test_data = []\n",
        "\n",
        "    for user_id in ratings['userId'].unique():\n",
        "        user_ratings = ratings[ratings['userId'] == user_id]\n",
        "\n",
        "        # Randomly sample one rating per user for the test set\n",
        "        test_sample = user_ratings.sample(n=1, random_state=42)\n",
        "        test_data.append(test_sample)\n",
        "\n",
        "        # The remaining ratings go into the training set\n",
        "        train_data.append(user_ratings.drop(test_sample.index))\n",
        "\n",
        "    # Combine the training and test data\n",
        "    train_data = pd.concat(train_data)\n",
        "    test_data = pd.concat(test_data)\n",
        "\n",
        "    return train_data, test_data"
      ]
    },
    {
      "cell_type": "code",
      "execution_count": 11,
      "metadata": {
        "id": "iqNQ3BDz31tF"
      },
      "outputs": [],
      "source": [
        "train_data, test_data = leave_one_out_split(ratings)"
      ]
    },
    {
      "cell_type": "code",
      "execution_count": 12,
      "metadata": {
        "id": "Ij-9jPqJO2dd"
      },
      "outputs": [],
      "source": [
        "# Shuffle the data to ensure randomness\n",
        "shuffled_ratings = train_data.sample(frac=1., random_state=42)"
      ]
    },
    {
      "cell_type": "code",
      "execution_count": 13,
      "metadata": {
        "id": "5TeVz2VfO54u"
      },
      "outputs": [],
      "source": [
        "# Extract users, movies, and ratings arrays\n",
        "Users = shuffled_ratings['userId'].values\n",
        "Movies = shuffled_ratings['movieId'].values\n",
        "Ratings = shuffled_ratings['rating'].values"
      ]
    },
    {
      "cell_type": "markdown",
      "metadata": {
        "id": "VB6Z6_UCPIMz"
      },
      "source": [
        "# Model"
      ]
    },
    {
      "cell_type": "code",
      "execution_count": 14,
      "metadata": {
        "id": "VK3QugV9O9OA"
      },
      "outputs": [],
      "source": [
        "# Define constants\n",
        "K_FACTORS = 100  # The number of latent factors for embeddings\n",
        "TEST_USER = 1"
      ]
    },
    {
      "cell_type": "code",
      "execution_count": 15,
      "metadata": {
        "id": "T6ZDywWJs_qV"
      },
      "outputs": [],
      "source": [
        "user_input = Input(shape=(1,), name='user_input')\n",
        "item_input = Input(shape=(1,), name='item_input')"
      ]
    },
    {
      "cell_type": "code",
      "execution_count": 16,
      "metadata": {
        "colab": {
          "base_uri": "https://localhost:8080/"
        },
        "id": "DVM8WQwbtJjE",
        "outputId": "56c216fc-8937-479e-e29f-ba55954c1d67"
      },
      "outputs": [
        {
          "name": "stderr",
          "output_type": "stream",
          "text": [
            "/usr/local/lib/python3.10/dist-packages/keras/src/layers/core/embedding.py:90: UserWarning: Argument `input_length` is deprecated. Just remove it.\n",
            "  warnings.warn(\n"
          ]
        }
      ],
      "source": [
        "# Define embeddings\n",
        "user_embedding = Embedding(input_dim=max_userid+1, output_dim=K_FACTORS, input_length=1, name='user_embedding')(user_input)\n",
        "item_embedding = Embedding(input_dim=max_movieid+1, output_dim=K_FACTORS, input_length=1, name='item_embedding')(item_input)"
      ]
    },
    {
      "cell_type": "code",
      "execution_count": 17,
      "metadata": {
        "id": "FeP4eFExtNIX"
      },
      "outputs": [],
      "source": [
        "# Flatten embeddings\n",
        "user_vec = Flatten(name='flatten_users')(user_embedding)\n",
        "item_vec = Flatten(name='flatten_items')(item_embedding)"
      ]
    },
    {
      "cell_type": "code",
      "execution_count": 18,
      "metadata": {
        "id": "jm7fxynBtQBi"
      },
      "outputs": [],
      "source": [
        "# Compute dot product of user and item vectors\n",
        "y = Dot(axes=1, name='dot_product')([user_vec, item_vec])"
      ]
    },
    {
      "cell_type": "code",
      "execution_count": 19,
      "metadata": {
        "id": "QGbPo1JAtd5o"
      },
      "outputs": [],
      "source": [
        "# Define the model\n",
        "cf_model = Model(inputs=[user_input, item_input], outputs=y)"
      ]
    },
    {
      "cell_type": "code",
      "execution_count": 20,
      "metadata": {
        "id": "DSdaipJntgv0"
      },
      "outputs": [],
      "source": [
        "# Compile the model using MSE as the loss function and the Adam optimizer\n",
        "cf_model.compile(optimizer='adam', loss='mse')"
      ]
    },
    {
      "cell_type": "code",
      "execution_count": 21,
      "metadata": {
        "id": "KKYW2yqOtioU"
      },
      "outputs": [],
      "source": [
        "# Callbacks for early stopping and saving the best model\n",
        "callbacks = [\n",
        "    EarlyStopping(patience=2, monitor='val_loss'),\n",
        "    ModelCheckpoint('best_cf_model.keras', save_best_only=True, monitor='val_loss', mode='min')\n",
        "]"
      ]
    },
    {
      "cell_type": "code",
      "execution_count": 22,
      "metadata": {
        "colab": {
          "base_uri": "https://localhost:8080/"
        },
        "id": "d2ZVkPUytluq",
        "outputId": "00d99a6a-d4cd-4681-f46e-b0615fbd1d26"
      },
      "outputs": [
        {
          "name": "stdout",
          "output_type": "stream",
          "text": [
            "Epoch 1/5\n",
            "\u001b[1m1253/1253\u001b[0m \u001b[32m━━━━━━━━━━━━━━━━━━━━\u001b[0m\u001b[37m\u001b[0m \u001b[1m14s\u001b[0m 10ms/step - loss: 12.2983 - val_loss: 2.9369\n",
            "Epoch 2/5\n",
            "\u001b[1m1253/1253\u001b[0m \u001b[32m━━━━━━━━━━━━━━━━━━━━\u001b[0m\u001b[37m\u001b[0m \u001b[1m13s\u001b[0m 11ms/step - loss: 2.1001 - val_loss: 1.5040\n",
            "Epoch 3/5\n",
            "\u001b[1m1253/1253\u001b[0m \u001b[32m━━━━━━━━━━━━━━━━━━━━\u001b[0m\u001b[37m\u001b[0m \u001b[1m17s\u001b[0m 8ms/step - loss: 1.0216 - val_loss: 1.2712\n",
            "Epoch 4/5\n",
            "\u001b[1m1253/1253\u001b[0m \u001b[32m━━━━━━━━━━━━━━━━━━━━\u001b[0m\u001b[37m\u001b[0m \u001b[1m14s\u001b[0m 11ms/step - loss: 0.7273 - val_loss: 1.2130\n",
            "Epoch 5/5\n",
            "\u001b[1m1253/1253\u001b[0m \u001b[32m━━━━━━━━━━━━━━━━━━━━\u001b[0m\u001b[37m\u001b[0m \u001b[1m9s\u001b[0m 7ms/step - loss: 0.5657 - val_loss: 1.2028\n"
          ]
        },
        {
          "data": {
            "text/plain": [
              "<keras.src.callbacks.history.History at 0x7f55f82cee30>"
            ]
          },
          "execution_count": 22,
          "metadata": {},
          "output_type": "execute_result"
        }
      ],
      "source": [
        "# Train the model\n",
        "cf_model.fit([Users, Movies], Ratings, epochs=5, batch_size=64,\n",
        "          validation_split=0.2, callbacks=callbacks)"
      ]
    },
    {
      "cell_type": "code",
      "execution_count": 23,
      "metadata": {
        "id": "9Z3fu78htoVN"
      },
      "outputs": [],
      "source": [
        "# Save the model in HDF5 format after training\n",
        "cf_model.save('cf_model_final.keras')"
      ]
    },
    {
      "cell_type": "code",
      "execution_count": null,
      "metadata": {
        "colab": {
          "base_uri": "https://localhost:8080/"
        },
        "id": "pBTXYjc3tRUO",
        "outputId": "dfe30a09-3e11-429d-ea18-ba4eddc123cd"
      },
      "outputs": [
        {
          "name": "stdout",
          "output_type": "stream",
          "text": [
            "Model architecture saved to JSON.\n"
          ]
        }
      ],
      "source": [
        "model_json = cf_model.to_json()\n",
        "\n",
        "# Write the model architecture to a JSON file\n",
        "with open('cf_model_architecture.json', 'w') as json_file:\n",
        "    json_file.write(model_json)"
      ]
    },
    {
      "cell_type": "code",
      "execution_count": 24,
      "metadata": {
        "id": "IW3T4TBoPb2u"
      },
      "outputs": [],
      "source": [
        "# Function to get top-N recommendations for a user\n",
        "def get_user_based_recommendations(user_id, num_recommendations=10):\n",
        "    all_movie_ids = np.array([movie_id for movie_id in range(1, max_movieid+1)])\n",
        "    predicted_ratings = cf_model.predict([np.array([user_id] * len(all_movie_ids)), all_movie_ids])\n",
        "    top_indices = np.argsort(predicted_ratings.flatten())[::-1][:num_recommendations]\n",
        "    recommended_movie_ids = all_movie_ids[top_indices]\n",
        "    recommended_movies = movies[movies['movieId'].isin(recommended_movie_ids)]\n",
        "    return recommended_movies"
      ]
    },
    {
      "cell_type": "code",
      "execution_count": null,
      "metadata": {},
      "outputs": [
        {
          "name": "stdout",
          "output_type": "stream",
          "text": [
            "6051/6051 [==============================] - 11s 2ms/step\n",
            "      movieId                                              title  \\\n",
            "1190     1587                         Conan the Barbarian (1982)   \n",
            "2280     3024                                     Piranha (1978)   \n",
            "2765     3703                The Road Warrior (Mad Max 2) (1981)   \n",
            "3734     5181                                   Hangar 18 (1980)   \n",
            "4045     5746                    Galaxy of Terror (Quest) (1981)   \n",
            "4050     5764                                      Looker (1981)   \n",
            "4122     5919                                     Android (1982)   \n",
            "5052     7899  Master of the Flying Guillotine (Du bi quan wa...   \n",
            "5504    26409                           The Clonus Horror (1979)   \n",
            "7114    70946                                     Troll 2 (1990)   \n",
            "\n",
            "                                genres  \n",
            "1190          Action|Adventure|Fantasy  \n",
            "2280                     Horror|Sci-Fi  \n",
            "2765  Action|Adventure|Sci-Fi|Thriller  \n",
            "3734            Action|Sci-Fi|Thriller  \n",
            "4045      Action|Horror|Mystery|Sci-Fi  \n",
            "4050      Drama|Horror|Sci-Fi|Thriller  \n",
            "4122                            Sci-Fi  \n",
            "5052                            Action  \n",
            "5504                     Horror|Sci-Fi  \n",
            "7114                    Fantasy|Horror  \n"
          ]
        }
      ],
      "source": [
        "# To Check\n",
        "user_id = 3\n",
        "recommendations = get_user_based_recommendations(user_id, num_recommendations=10)\n",
        "print(recommendations)"
      ]
    },
    {
      "cell_type": "markdown",
      "metadata": {
        "id": "MBhSm7Y9WWlA"
      },
      "source": [
        "# Evaluation"
      ]
    },
    {
      "cell_type": "code",
      "execution_count": 30,
      "metadata": {
        "id": "tmmQn2IvWQnN"
      },
      "outputs": [],
      "source": [
        "# Prepare the test data for evaluation\n",
        "test_users = test_data['userId'].values\n",
        "test_movies = test_data['movieId'].values\n",
        "test_ratings = test_data['rating'].values"
      ]
    },
    {
      "cell_type": "code",
      "execution_count": 31,
      "metadata": {
        "colab": {
          "base_uri": "https://localhost:8080/"
        },
        "id": "-2bxeu68cvw-",
        "outputId": "132b0797-5615-4186-927d-51db34d12e96"
      },
      "outputs": [
        {
          "name": "stdout",
          "output_type": "stream",
          "text": [
            "\u001b[1m20/20\u001b[0m \u001b[32m━━━━━━━━━━━━━━━━━━━━\u001b[0m\u001b[37m\u001b[0m \u001b[1m0s\u001b[0m 17ms/step\n"
          ]
        },
        {
          "data": {
            "text/plain": [
              "1.0900596410737795"
            ]
          },
          "execution_count": 31,
          "metadata": {},
          "output_type": "execute_result"
        }
      ],
      "source": [
        "# Predict ratings for the test set\n",
        "predicted_test_ratings = cf_model.predict([test_users, test_movies])\n",
        "\n",
        "# Calculate RMSE\n",
        "rmse = np.sqrt(mean_squared_error(test_ratings, predicted_test_ratings))\n",
        "rmse"
      ]
    },
    {
      "cell_type": "markdown",
      "metadata": {
        "id": "jm3CKzk-hi1i"
      },
      "source": [
        "# Deeper Model"
      ]
    },
    {
      "cell_type": "code",
      "execution_count": 35,
      "metadata": {
        "id": "D7-wi2t9hlZC"
      },
      "outputs": [],
      "source": [
        "# Instantiate the deeper model\n",
        "num_users = max_userid + 1\n",
        "num_items = max_movieid + 1"
      ]
    },
    {
      "cell_type": "code",
      "execution_count": 36,
      "metadata": {
        "id": "tzhm2TkG0OT6"
      },
      "outputs": [],
      "source": [
        "# Define constants\n",
        "K_FACTORS = 100"
      ]
    },
    {
      "cell_type": "code",
      "execution_count": 37,
      "metadata": {
        "colab": {
          "base_uri": "https://localhost:8080/"
        },
        "id": "rsQMTl0Z0d3w",
        "outputId": "caaf2685-5b0d-4f09-da12-ce494d5f47e2"
      },
      "outputs": [
        {
          "name": "stderr",
          "output_type": "stream",
          "text": [
            "/usr/local/lib/python3.10/dist-packages/keras/src/layers/core/embedding.py:90: UserWarning: Argument `input_length` is deprecated. Just remove it.\n",
            "  warnings.warn(\n"
          ]
        }
      ],
      "source": [
        "# Define the model\n",
        "user_input = Input(shape=(1,), name='user_input')\n",
        "user_embedding = Embedding(num_users, K_FACTORS, input_length=1, name='user_embedding')(user_input)\n",
        "user_vec = Flatten(name='user_flatten')(user_embedding)\n",
        "item_input = Input(shape=(1,), name='item_input')\n",
        "item_embedding = Embedding(num_items, K_FACTORS, input_length=1, name='item_embedding')(item_input)\n",
        "item_vec = Flatten(name='item_flatten')(item_embedding)\n",
        "concat = Concatenate()([user_vec, item_vec])\n",
        "dense = Dense(128, activation='relu')(concat)\n",
        "dropout = Dropout(0.5)(dense)\n",
        "dense = Dense(64, activation='relu')(dropout)\n",
        "dropout = Dropout(0.5)(dense)\n",
        "dense = Dense(32, activation='relu')(dropout)\n",
        "dropout = Dropout(0.5)(dense)\n",
        "output = Dense(1, name='output')(dropout)\n",
        "\n",
        "deep_cf_model = Model(inputs=[user_input, item_input], outputs=output)\n",
        "deep_cf_model.compile(optimizer='adam', loss='mse')"
      ]
    },
    {
      "cell_type": "code",
      "execution_count": 38,
      "metadata": {
        "colab": {
          "base_uri": "https://localhost:8080/"
        },
        "id": "gQheX1pz6oru",
        "outputId": "eb3f8121-3e3d-4509-badd-2193a800e53e"
      },
      "outputs": [
        {
          "name": "stdout",
          "output_type": "stream",
          "text": [
            "Epoch 1/10\n",
            "\u001b[1m1253/1253\u001b[0m \u001b[32m━━━━━━━━━━━━━━━━━━━━\u001b[0m\u001b[37m\u001b[0m \u001b[1m17s\u001b[0m 10ms/step - loss: 2.9939 - val_loss: 0.8701\n",
            "Epoch 2/10\n",
            "\u001b[1m1253/1253\u001b[0m \u001b[32m━━━━━━━━━━━━━━━━━━━━\u001b[0m\u001b[37m\u001b[0m \u001b[1m14s\u001b[0m 8ms/step - loss: 1.2976 - val_loss: 0.8352\n",
            "Epoch 3/10\n",
            "\u001b[1m1253/1253\u001b[0m \u001b[32m━━━━━━━━━━━━━━━━━━━━\u001b[0m\u001b[37m\u001b[0m \u001b[1m10s\u001b[0m 8ms/step - loss: 1.0267 - val_loss: 0.7705\n",
            "Epoch 4/10\n",
            "\u001b[1m1253/1253\u001b[0m \u001b[32m━━━━━━━━━━━━━━━━━━━━\u001b[0m\u001b[37m\u001b[0m \u001b[1m10s\u001b[0m 8ms/step - loss: 0.8608 - val_loss: 0.7657\n",
            "Epoch 5/10\n",
            "\u001b[1m1253/1253\u001b[0m \u001b[32m━━━━━━━━━━━━━━━━━━━━\u001b[0m\u001b[37m\u001b[0m \u001b[1m11s\u001b[0m 8ms/step - loss: 0.7558 - val_loss: 0.7618\n",
            "Epoch 6/10\n",
            "\u001b[1m1253/1253\u001b[0m \u001b[32m━━━━━━━━━━━━━━━━━━━━\u001b[0m\u001b[37m\u001b[0m \u001b[1m8s\u001b[0m 6ms/step - loss: 0.6932 - val_loss: 0.7623\n",
            "Epoch 7/10\n",
            "\u001b[1m1253/1253\u001b[0m \u001b[32m━━━━━━━━━━━━━━━━━━━━\u001b[0m\u001b[37m\u001b[0m \u001b[1m14s\u001b[0m 9ms/step - loss: 0.6441 - val_loss: 0.7585\n",
            "Epoch 8/10\n",
            "\u001b[1m1253/1253\u001b[0m \u001b[32m━━━━━━━━━━━━━━━━━━━━\u001b[0m\u001b[37m\u001b[0m \u001b[1m17s\u001b[0m 7ms/step - loss: 0.6068 - val_loss: 0.7670\n",
            "Epoch 9/10\n",
            "\u001b[1m1253/1253\u001b[0m \u001b[32m━━━━━━━━━━━━━━━━━━━━\u001b[0m\u001b[37m\u001b[0m \u001b[1m10s\u001b[0m 6ms/step - loss: 0.5816 - val_loss: 0.7723\n"
          ]
        },
        {
          "data": {
            "text/plain": [
              "<keras.src.callbacks.history.History at 0x7f5595323d90>"
            ]
          },
          "execution_count": 38,
          "metadata": {},
          "output_type": "execute_result"
        }
      ],
      "source": [
        "# Train the model\n",
        "deep_cf_model.fit([Users, Movies], Ratings, epochs=10, batch_size=64, validation_split=0.2,\n",
        "                  callbacks=[EarlyStopping(patience=2), ModelCheckpoint('deep_model.keras', save_best_only=True)])"
      ]
    },
    {
      "cell_type": "code",
      "execution_count": null,
      "metadata": {
        "id": "8UbjtwYc6qd3"
      },
      "outputs": [],
      "source": [
        "# Save the model architecture to a JSON file\n",
        "model_json = deep_cf_model.to_json()\n",
        "with open(\"cf_model_final_user_based.json\", \"w\") as json_file:\n",
        "    json_file.write(model_json)"
      ]
    },
    {
      "cell_type": "code",
      "execution_count": null,
      "metadata": {
        "id": "tFBTHyJl6tfQ"
      },
      "outputs": [],
      "source": [
        "# Save the model weights to an HDF5 file\n",
        "deep_cf_model.save_weights(\"cf_model_final_user_based.keras\")"
      ]
    },
    {
      "cell_type": "code",
      "execution_count": null,
      "metadata": {
        "id": "w4i2BEL19Zqh"
      },
      "outputs": [],
      "source": [
        "# Download the model architecture and weights files\n",
        "files.download('cf_model_final_user_based.json')\n",
        "files.download('cf_model_final_user_based.keras')"
      ]
    },
    {
      "cell_type": "code",
      "execution_count": null,
      "metadata": {
        "colab": {
          "base_uri": "https://localhost:8080/"
        },
        "id": "OPHDG2Wrkj0t",
        "outputId": "55488a07-a5a3-4687-e82e-e3b4a72320e0"
      },
      "outputs": [
        {
          "name": "stdout",
          "output_type": "stream",
          "text": [
            "6051/6051 [==============================] - 12s 2ms/step\n",
            "      movieId                                              title  \\\n",
            "87         99               Heidi Fleiss: Hollywood Madam (1995)   \n",
            "2206     2931        Time of the Gypsies (Dom za vesanje) (1989)   \n",
            "2453     3266  Man Bites Dog (C'est arrivé près de chez vous)...   \n",
            "4050     5764                                      Looker (1981)   \n",
            "4396     6460                      The Trial (Procès, Le) (1962)   \n",
            "5489    26326     The Holy Mountain (Montaña sagrada, La) (1973)   \n",
            "5580    26810                               Bad Boy Bubby (1993)   \n",
            "5848    32582          The Wild Parrots of Telegraph Hill (2003)   \n",
            "6954    65642             Timecrimes (Cronocrímenes, Los) (2007)   \n",
            "9301   158966                           Captain Fantastic (2016)   \n",
            "\n",
            "                            genres  \n",
            "87                     Documentary  \n",
            "2206    Comedy|Crime|Drama|Fantasy  \n",
            "2453   Comedy|Crime|Drama|Thriller  \n",
            "4050  Drama|Horror|Sci-Fi|Thriller  \n",
            "4396                         Drama  \n",
            "5489                         Drama  \n",
            "5580                         Drama  \n",
            "5848                   Documentary  \n",
            "6954               Sci-Fi|Thriller  \n",
            "9301                         Drama  \n"
          ]
        }
      ],
      "source": [
        "user_id = 3\n",
        "recommendations = get_user_based_recommendations(user_id, num_recommendations=10)\n",
        "print(recommendations)"
      ]
    },
    {
      "cell_type": "code",
      "execution_count": 40,
      "metadata": {
        "colab": {
          "base_uri": "https://localhost:8080/"
        },
        "id": "JHkdl3ctlim1",
        "outputId": "0ea0631b-8ecb-4ad3-ee1c-f5b58a643ff7"
      },
      "outputs": [
        {
          "name": "stdout",
          "output_type": "stream",
          "text": [
            "\u001b[1m20/20\u001b[0m \u001b[32m━━━━━━━━━━━━━━━━━━━━\u001b[0m\u001b[37m\u001b[0m \u001b[1m1s\u001b[0m 19ms/step\n"
          ]
        }
      ],
      "source": [
        "predicted_test_ratings = deep_cf_model.predict([test_users, test_movies])"
      ]
    },
    {
      "cell_type": "code",
      "execution_count": null,
      "metadata": {
        "colab": {
          "base_uri": "https://localhost:8080/"
        },
        "id": "h_YJDpXRjXUK",
        "outputId": "069268a8-088a-41d0-e38d-5344922d69ec"
      },
      "outputs": [
        {
          "name": "stdout",
          "output_type": "stream",
          "text": [
            "RMSE: 0.7162030846048772\n"
          ]
        }
      ],
      "source": [
        "rmse = np.sqrt(mean_squared_error(test_ratings, predicted_test_ratings))\n",
        "print(f'RMSE: {rmse}')"
      ]
    }
  ],
  "metadata": {
    "accelerator": "GPU",
    "colab": {
      "gpuType": "T4",
      "provenance": []
    },
    "kernelspec": {
      "display_name": "Python 3",
      "name": "python3"
    },
    "language_info": {
      "name": "python"
    }
  },
  "nbformat": 4,
  "nbformat_minor": 0
}
